{
  "metadata": {
    "language_info": {
      "codemirror_mode": {
        "name": "python",
        "version": 3
      },
      "file_extension": ".py",
      "mimetype": "text/x-python",
      "name": "python",
      "nbconvert_exporter": "python",
      "pygments_lexer": "ipython3",
      "version": "3.8"
    },
    "kernelspec": {
      "name": "python",
      "display_name": "Python (Pyodide)",
      "language": "python"
    }
  },
  "nbformat_minor": 4,
  "nbformat": 4,
  "cells": [
    {
      "cell_type": "code",
      "source": "# Q1. Write a program to find all pairs of an integer array whose sum is equal to a given number?",
      "metadata": {
        "trusted": true
      },
      "execution_count": 3,
      "outputs": []
    },
    {
      "cell_type": "code",
      "source": "def find_pairs(arr, target_sum):\n    # create a set to store the pairs\n    pairs = set()\n    \n    # iterate through the array\n    for num in arr:\n        # check if the target_sum minus the current number is in the set\n        if (target_sum - num) in arr:\n            # if it is, add the pair to the set\n            pairs.add((num, target_sum - num))\n    \n    # return the set of pairs\n    return pairs",
      "metadata": {
        "trusted": true
      },
      "execution_count": 4,
      "outputs": []
    },
    {
      "cell_type": "code",
      "source": "arr = [1, 2, 3, 4, 5]\ntarget_sum = 5\npairs = find_pairs(arr, target_sum)\nprint(pairs)",
      "metadata": {
        "trusted": true
      },
      "execution_count": 5,
      "outputs": [
        {
          "name": "stdout",
          "text": "{(3, 2), (4, 1), (1, 4), (2, 3)}\n",
          "output_type": "stream"
        }
      ]
    },
    {
      "cell_type": "code",
      "source": "# Q2. Write a program to reverse an array in place? In place means you cannot create a new array. You have to update the original array.",
      "metadata": {
        "trusted": true
      },
      "execution_count": 6,
      "outputs": []
    },
    {
      "cell_type": "code",
      "source": "def reverse_array(arr):\n  # Calculate the length of the array\n  n = len(arr)\n\n  # Loop through the array up to the middle index\n  for i in range(n // 2):\n    # Swap the element at the i-th index with the element at the (n - i - 1)-th index\n    arr[i], arr[n - i - 1] = arr[n - i - 1], arr[i]\n\n# Example usage\narr = [1, 2, 3, 4, 5]\nreverse_array(arr)\nprint(arr)  ",
      "metadata": {
        "trusted": true
      },
      "execution_count": 16,
      "outputs": [
        {
          "name": "stdout",
          "text": "[5, 4, 3, 2, 1]\n",
          "output_type": "stream"
        }
      ]
    },
    {
      "cell_type": "code",
      "source": "# Q3. Write a program to check if two strings are a rotation of each other?",
      "metadata": {
        "trusted": true
      },
      "execution_count": 7,
      "outputs": []
    },
    {
      "cell_type": "code",
      "source": "def is_rotation(s1, s2):\n  # Return False if the strings have different lengths\n  if len(s1) != len(s2):\n    return False\n\n  # Concatenate s1 with itself and check if s2 is a substring\n  return s2 in s1 + s1\n\n# Test the function\nprint(is_rotation(\"hello\", \"llohe\")) \nprint(is_rotation(\"hello\", \"llohi\"))",
      "metadata": {
        "trusted": true
      },
      "execution_count": 17,
      "outputs": [
        {
          "name": "stdout",
          "text": "True\nFalse\n",
          "output_type": "stream"
        }
      ]
    },
    {
      "cell_type": "code",
      "source": "# Q4. Write a program to print the first non-repeated character from a string?",
      "metadata": {
        "trusted": true
      },
      "execution_count": 8,
      "outputs": []
    },
    {
      "cell_type": "code",
      "source": "def first_non_repeated(s):\n  # Create a dictionary to store the count of each character in the string\n  char_count = {}\n  for c in s:\n    if c in char_count:\n      char_count[c] += 1\n    else:\n      char_count[c] = 1\n  \n  # Iterate through the string again and return the first character that has a count of 1\n  for c in s:\n    if char_count[c] == 1:\n      return c\n  \n  # If no non-repeated characters are found, return None\n  return None\n\n# Test the function with some example strings\nprint(first_non_repeated(\"aabcb\"))  \nprint(first_non_repeated(\"xxyz\"))  \nprint(first_non_repeated(\"aabb\"))  ",
      "metadata": {
        "trusted": true
      },
      "execution_count": 19,
      "outputs": [
        {
          "name": "stdout",
          "text": "c\ny\nNone\n",
          "output_type": "stream"
        }
      ]
    },
    {
      "cell_type": "code",
      "source": "# Q5. Read about the Tower of Hanoi algorithm. Write a program to implement it.",
      "metadata": {
        "trusted": true
      },
      "execution_count": 9,
      "outputs": []
    },
    {
      "cell_type": "code",
      "source": "def tower_of_hanoi(n, source, auxiliary, target):\n    if n == 1:\n        print(\"Move disk 1 from source\", source, \"to target\", target)\n        return\n    tower_of_hanoi(n - 1, source, target, auxiliary)\n    print(\"Move disk\", n, \"from source\", source, \"to target\", target)\n    tower_of_hanoi(n - 1, auxiliary, source, target)\n\n# Test with n = 3\ntower_of_hanoi(3, \"A\", \"B\", \"C\")",
      "metadata": {
        "trusted": true
      },
      "execution_count": 20,
      "outputs": [
        {
          "name": "stdout",
          "text": "Move disk 1 from source A to target C\nMove disk 2 from source A to target B\nMove disk 1 from source C to target B\nMove disk 3 from source A to target C\nMove disk 1 from source B to target A\nMove disk 2 from source B to target C\nMove disk 1 from source A to target C\n",
          "output_type": "stream"
        }
      ]
    },
    {
      "cell_type": "code",
      "source": "# Q6. Read about infix, prefix, and postfix expressions. Write a program to convert postfix to prefix expression.",
      "metadata": {
        "trusted": true
      },
      "execution_count": 10,
      "outputs": []
    },
    {
      "cell_type": "code",
      "source": "def postfix_to_prefix(expression):\n  # Create an empty stack\n  stack = []\n\n  # Iterate through the expression\n  for character in expression:\n    # If the character is an operand, push it to the stack\n    if character.isalpha():\n      stack.append(character)\n    # If the character is an operator, pop two operands from the stack,\n    # perform the operation, and push the result back to the stack\n    else:\n      operand1 = stack.pop()\n      operand2 = stack.pop()\n      result = character + operand2 + operand1\n      stack.append(result)\n\n  # The result is the top of the stack\n  return stack[-1]\n\n# Test the function\nexpression = \"ABC*+D/\"\nresult = postfix_to_prefix(expression)\nprint(result) ",
      "metadata": {
        "trusted": true
      },
      "execution_count": 21,
      "outputs": [
        {
          "name": "stdout",
          "text": "/+A*BCD\n",
          "output_type": "stream"
        }
      ]
    },
    {
      "cell_type": "code",
      "source": "# Q7. Write a program to convert prefix expression to infix expression.",
      "metadata": {
        "trusted": true
      },
      "execution_count": 11,
      "outputs": []
    },
    {
      "cell_type": "code",
      "source": "def prefix_to_infix(expression):\n  stack = []\n  \n  # Iterate through the expression in reverse order\n  for i in range(len(expression) - 1, -1, -1):\n    # If the current character is an operand, push it to the stack\n    if expression[i].isalpha():\n      stack.append(expression[i])\n    else:\n      # If the current character is an operator, pop the top two operands from the stack\n      # and form an infix expression with the operator and the operands\n      operand_2 = stack.pop()\n      operand_1 = stack.pop()\n      infix_expression = \"(\" + operand_1 + expression[i] + operand_2 + \")\"\n      # Push the infix expression back to the stack\n      stack.append(infix_expression)\n  \n  # The final infix expression will be at the top of the stack\n  return stack[-1]\n\n# Test the function\nprint(prefix_to_infix(\"*-A/BC-/AKL\"))  ",
      "metadata": {
        "trusted": true
      },
      "execution_count": 22,
      "outputs": [
        {
          "name": "stdout",
          "text": "((L-(K/A))*((C/B)-A))\n",
          "output_type": "stream"
        }
      ]
    },
    {
      "cell_type": "code",
      "source": "# Q8. Write a program to check if all the brackets are closed in a given code snippet.",
      "metadata": {
        "trusted": true
      },
      "execution_count": 12,
      "outputs": []
    },
    {
      "cell_type": "code",
      "source": "def check_brackets(code):\n    stack = []\n    for c in code:\n        if c in ['{', '[', '(']:\n            stack.append(c)\n        elif c in ['}', ']', ')']:\n            if not stack:\n                return False\n            if c == '}' and stack[-1] != '{':\n                return False\n            if c == ']' and stack[-1] != '[':\n                return False\n            if c == ')' and stack[-1] != '(':\n                return False\n            stack.pop()\n    return not stack\n\n# Test the function\nprint(check_brackets(\"{[()]}\")) \nprint(check_brackets(\"{[(])}\")) \nprint(check_brackets(\"{{[[(())]]}}\")) ",
      "metadata": {
        "trusted": true
      },
      "execution_count": 23,
      "outputs": [
        {
          "name": "stdout",
          "text": "True\nFalse\nTrue\n",
          "output_type": "stream"
        }
      ]
    },
    {
      "cell_type": "code",
      "source": "# Q9. Write a program to reverse a stack.",
      "metadata": {
        "trusted": true
      },
      "execution_count": 13,
      "outputs": []
    },
    {
      "cell_type": "code",
      "source": "def reverse_stack(stack):\n  def helper(stack, reversed_stack):\n    if not stack:\n      return reversed_stack\n    else:\n      reversed_stack.append(stack.pop())\n      return helper(stack, reversed_stack)\n  return helper(stack, [])\n\n# Test the function\nstack = [1, 2, 3, 4, 5]\nprint(reverse_stack(stack))  ",
      "metadata": {
        "trusted": true
      },
      "execution_count": 24,
      "outputs": [
        {
          "name": "stdout",
          "text": "[5, 4, 3, 2, 1]\n",
          "output_type": "stream"
        }
      ]
    },
    {
      "cell_type": "code",
      "source": "# Q10. Write a program to find the smallest number using a stack.",
      "metadata": {
        "trusted": true
      },
      "execution_count": 14,
      "outputs": []
    },
    {
      "cell_type": "code",
      "source": "def find_smallest(numbers):\n    # create an empty stack\n    stack = []\n\n    # iterate through the list of numbers\n    for number in numbers:\n        # if the stack is empty or the number is smaller than the top of the stack\n        if not stack or number < stack[-1]:\n            # push the number onto the stack\n            stack.append(number)\n\n    # the smallest number will be at the top of the stack\n    return stack[-1]\n\n# test the function\nprint(find_smallest([3, 4, 1, 2, 5]))  \nprint(find_smallest([1, 2, 3, 4, 5]))  \nprint(find_smallest([5, 4, 3, 2, 1])) ",
      "metadata": {
        "trusted": true
      },
      "execution_count": 25,
      "outputs": [
        {
          "name": "stdout",
          "text": "1\n1\n1\n",
          "output_type": "stream"
        }
      ]
    }
  ]
}